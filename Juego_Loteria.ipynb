{
  "nbformat": 4,
  "nbformat_minor": 0,
  "metadata": {
    "colab": {
      "name": "Juego_Loteria.ipynb",
      "provenance": [],
      "collapsed_sections": []
    },
    "kernelspec": {
      "name": "python3",
      "display_name": "Python 3"
    }
  },
  "cells": [
    {
      "cell_type": "code",
      "metadata": {
        "id": "UH_onwkpeZoi",
        "colab_type": "code",
        "colab": {
          "base_uri": "https://localhost:8080/",
          "height": 153
        },
        "outputId": "5f7a7258-a4dd-4386-9fab-58bef517c6d9"
      },
      "source": [
        "import matplotlib as plt\n",
        "import random as rd\n",
        "\n",
        "#ingrese los 5 numeros de su jugada : \n",
        "mi_jugada=[]\n",
        "for x in range(5):\n",
        "    num=int(input(f\"Ingrese el numero {x+1} de su jugada:\"))\n",
        "    mi_jugada.append(num)\n",
        "print('Mi jugada es : ',mi_jugada)\n",
        "\n",
        "#Se eligen los numeros aleatorios del juego de la loteria\n",
        "loteria=[]\n",
        "loteria=rd.sample(range(1,45),5) \n",
        "print('Los numeros de la loteria son :',loteria)\n",
        "\n",
        "#Comparamos las 2 listas para encontrar los numeros q coinciden\n",
        "lista1=set(mi_jugada)\n",
        "lista2=set(loteria)\n",
        "\n",
        "final= lista1 & lista2\n",
        "if len(final) > 0 :\n",
        "    print(\"Hay {} aciertos\".format(len(final)))\n",
        "    \n",
        "else:\n",
        "    print(\"no hay aciertos\")\n"
      ],
      "execution_count": 74,
      "outputs": [
        {
          "output_type": "stream",
          "text": [
            "Ingrese el numero 1 de su jugada:5\n",
            "Ingrese el numero 2 de su jugada:6\n",
            "Ingrese el numero 3 de su jugada:7\n",
            "Ingrese el numero 4 de su jugada:10\n",
            "Ingrese el numero 5 de su jugada:11\n",
            "Mi jugada es :  [5, 6, 7, 10, 11]\n",
            "Los numeros de la loteria son : [44, 24, 32, 18, 26]\n",
            "no hay aciertos\n"
          ],
          "name": "stdout"
        }
      ]
    },
    {
      "cell_type": "markdown",
      "metadata": {
        "id": "moAGYpCRk_yE",
        "colab_type": "text"
      },
      "source": [
        ""
      ]
    }
  ]
}