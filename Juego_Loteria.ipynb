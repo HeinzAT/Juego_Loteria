{
  "nbformat": 4,
  "nbformat_minor": 0,
  "metadata": {
    "colab": {
      "name": "Juego_Loteria.ipynb",
      "provenance": [],
      "collapsed_sections": []
    },
    "kernelspec": {
      "name": "python3",
      "display_name": "Python 3"
    }
  },
  "cells": [
    {
      "cell_type": "code",
      "metadata": {
        "id": "UH_onwkpeZoi",
        "colab_type": "code",
        "colab": {}
      },
      "source": [
        "import matplotlib as plt\n",
        "import random as rd\n",
        "\n",
        "#ingrese los 5 numeros de su jugada sin repetir los numeros en un misma jugada: \n",
        "mi_jugada=[]\n",
        "x=1\n",
        "while x<=5:\n",
        "  num = int(input(f'Ingrese el numero {x} de su jugada: '))\n",
        "  if num not in mi_jugada:\n",
        "    mi_jugada.append(num)\n",
        "    x+=1\n",
        "  else:\n",
        "    print('No puede repetir el mismo numero en una jugada')      \n",
        "print(\" \")\n",
        "print('Mi jugada es : ',mi_jugada)\n",
        "\n",
        "#Se eligen los numeros aleatorios del juego de la loteria\n",
        "loteria=[]\n",
        "loteria=rd.sample(range(1,45),5) \n",
        "print('Los numeros de la loteria son :',loteria)\n",
        "\n",
        "#Comparamos las 2 listas para encontrar los numeros q coinciden\n",
        "lista1=set(mi_jugada)\n",
        "lista2=set(loteria)\n",
        "\n",
        "final= lista1 & lista2\n",
        "if len(final) > 0 :\n",
        "    print(\"Hay {} aciertos\".format(len(final)))\n",
        "    \n",
        "else:\n",
        "    print(\"no hay aciertos\")\n"
      ],
      "execution_count": 0,
      "outputs": []
    },
    {
      "cell_type": "code",
      "metadata": {
        "id": "s42cfFjQ4s3L",
        "colab_type": "code",
        "colab": {}
      },
      "source": [
        ""
      ],
      "execution_count": 0,
      "outputs": []
    },
    {
      "cell_type": "markdown",
      "metadata": {
        "id": "moAGYpCRk_yE",
        "colab_type": "text"
      },
      "source": [
        ""
      ]
    }
  ]
}